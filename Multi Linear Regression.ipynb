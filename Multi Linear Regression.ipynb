{
 "cells": [
  {
   "cell_type": "code",
   "execution_count": 1,
   "id": "ff3e2c35",
   "metadata": {},
   "outputs": [],
   "source": [
    "#import the necessar Library\n",
    "import numpy as np\n",
    "import pandas as pd\n",
    "import seaborn as sns"
   ]
  },
  {
   "cell_type": "code",
   "execution_count": 2,
   "id": "6909f68a",
   "metadata": {},
   "outputs": [],
   "source": [
    "#load the dataset\n",
    "data=pd.read_csv('50_Startups.csv')"
   ]
  },
  {
   "cell_type": "code",
   "execution_count": 3,
   "id": "3d37dc81",
   "metadata": {},
   "outputs": [
    {
     "data": {
      "text/html": [
       "<div>\n",
       "<style scoped>\n",
       "    .dataframe tbody tr th:only-of-type {\n",
       "        vertical-align: middle;\n",
       "    }\n",
       "\n",
       "    .dataframe tbody tr th {\n",
       "        vertical-align: top;\n",
       "    }\n",
       "\n",
       "    .dataframe thead th {\n",
       "        text-align: right;\n",
       "    }\n",
       "</style>\n",
       "<table border=\"1\" class=\"dataframe\">\n",
       "  <thead>\n",
       "    <tr style=\"text-align: right;\">\n",
       "      <th></th>\n",
       "      <th>R&amp;D Spend</th>\n",
       "      <th>Administration</th>\n",
       "      <th>Marketing Spend</th>\n",
       "      <th>State</th>\n",
       "      <th>Profit</th>\n",
       "    </tr>\n",
       "  </thead>\n",
       "  <tbody>\n",
       "    <tr>\n",
       "      <th>0</th>\n",
       "      <td>165349.20</td>\n",
       "      <td>136897.80</td>\n",
       "      <td>471784.10</td>\n",
       "      <td>New York</td>\n",
       "      <td>192261.83</td>\n",
       "    </tr>\n",
       "    <tr>\n",
       "      <th>1</th>\n",
       "      <td>162597.70</td>\n",
       "      <td>151377.59</td>\n",
       "      <td>443898.53</td>\n",
       "      <td>California</td>\n",
       "      <td>191792.06</td>\n",
       "    </tr>\n",
       "    <tr>\n",
       "      <th>2</th>\n",
       "      <td>153441.51</td>\n",
       "      <td>101145.55</td>\n",
       "      <td>407934.54</td>\n",
       "      <td>Florida</td>\n",
       "      <td>191050.39</td>\n",
       "    </tr>\n",
       "    <tr>\n",
       "      <th>3</th>\n",
       "      <td>144372.41</td>\n",
       "      <td>118671.85</td>\n",
       "      <td>383199.62</td>\n",
       "      <td>New York</td>\n",
       "      <td>182901.99</td>\n",
       "    </tr>\n",
       "    <tr>\n",
       "      <th>4</th>\n",
       "      <td>142107.34</td>\n",
       "      <td>91391.77</td>\n",
       "      <td>366168.42</td>\n",
       "      <td>Florida</td>\n",
       "      <td>166187.94</td>\n",
       "    </tr>\n",
       "  </tbody>\n",
       "</table>\n",
       "</div>"
      ],
      "text/plain": [
       "   R&D Spend  Administration  Marketing Spend       State     Profit\n",
       "0  165349.20       136897.80        471784.10    New York  192261.83\n",
       "1  162597.70       151377.59        443898.53  California  191792.06\n",
       "2  153441.51       101145.55        407934.54     Florida  191050.39\n",
       "3  144372.41       118671.85        383199.62    New York  182901.99\n",
       "4  142107.34        91391.77        366168.42     Florida  166187.94"
      ]
     },
     "execution_count": 3,
     "metadata": {},
     "output_type": "execute_result"
    }
   ],
   "source": [
    "data.head()"
   ]
  },
  {
   "cell_type": "code",
   "execution_count": 4,
   "id": "6e64d6fe",
   "metadata": {},
   "outputs": [
    {
     "data": {
      "text/plain": [
       "(108, 5)"
      ]
     },
     "execution_count": 4,
     "metadata": {},
     "output_type": "execute_result"
    }
   ],
   "source": [
    "data.shape"
   ]
  },
  {
   "cell_type": "code",
   "execution_count": 5,
   "id": "49924201",
   "metadata": {},
   "outputs": [
    {
     "data": {
      "text/plain": [
       "R&D Spend          float64\n",
       "Administration     float64\n",
       "Marketing Spend    float64\n",
       "State               object\n",
       "Profit             float64\n",
       "dtype: object"
      ]
     },
     "execution_count": 5,
     "metadata": {},
     "output_type": "execute_result"
    }
   ],
   "source": [
    "data.dtypes"
   ]
  },
  {
   "cell_type": "code",
   "execution_count": 6,
   "id": "5fa2b138",
   "metadata": {},
   "outputs": [
    {
     "data": {
      "text/plain": [
       "R&D Spend          0\n",
       "Administration     0\n",
       "Marketing Spend    0\n",
       "State              0\n",
       "Profit             0\n",
       "dtype: int64"
      ]
     },
     "execution_count": 6,
     "metadata": {},
     "output_type": "execute_result"
    }
   ],
   "source": [
    "data.isnull().sum()"
   ]
  },
  {
   "cell_type": "code",
   "execution_count": 7,
   "id": "35e8af62",
   "metadata": {},
   "outputs": [
    {
     "data": {
      "text/plain": [
       "array(['New York', 'California', 'Florida'], dtype=object)"
      ]
     },
     "execution_count": 7,
     "metadata": {},
     "output_type": "execute_result"
    }
   ],
   "source": [
    "data['State'].unique()"
   ]
  },
  {
   "cell_type": "code",
   "execution_count": 8,
   "id": "77727b28",
   "metadata": {},
   "outputs": [
    {
     "data": {
      "text/plain": [
       "New York      39\n",
       "California    36\n",
       "Florida       33\n",
       "Name: State, dtype: int64"
      ]
     },
     "execution_count": 8,
     "metadata": {},
     "output_type": "execute_result"
    }
   ],
   "source": [
    "data['State'].value_counts()"
   ]
  },
  {
   "cell_type": "code",
   "execution_count": 9,
   "id": "c77f5445",
   "metadata": {},
   "outputs": [
    {
     "data": {
      "text/html": [
       "<div>\n",
       "<style scoped>\n",
       "    .dataframe tbody tr th:only-of-type {\n",
       "        vertical-align: middle;\n",
       "    }\n",
       "\n",
       "    .dataframe tbody tr th {\n",
       "        vertical-align: top;\n",
       "    }\n",
       "\n",
       "    .dataframe thead th {\n",
       "        text-align: right;\n",
       "    }\n",
       "</style>\n",
       "<table border=\"1\" class=\"dataframe\">\n",
       "  <thead>\n",
       "    <tr style=\"text-align: right;\">\n",
       "      <th></th>\n",
       "      <th>R&amp;D Spend</th>\n",
       "      <th>Administration</th>\n",
       "      <th>Marketing Spend</th>\n",
       "      <th>State</th>\n",
       "      <th>Profit</th>\n",
       "    </tr>\n",
       "  </thead>\n",
       "  <tbody>\n",
       "    <tr>\n",
       "      <th>0</th>\n",
       "      <td>165349.20</td>\n",
       "      <td>136897.80</td>\n",
       "      <td>471784.10</td>\n",
       "      <td>New York</td>\n",
       "      <td>192261.83</td>\n",
       "    </tr>\n",
       "    <tr>\n",
       "      <th>1</th>\n",
       "      <td>162597.70</td>\n",
       "      <td>151377.59</td>\n",
       "      <td>443898.53</td>\n",
       "      <td>California</td>\n",
       "      <td>191792.06</td>\n",
       "    </tr>\n",
       "    <tr>\n",
       "      <th>2</th>\n",
       "      <td>153441.51</td>\n",
       "      <td>101145.55</td>\n",
       "      <td>407934.54</td>\n",
       "      <td>Florida</td>\n",
       "      <td>191050.39</td>\n",
       "    </tr>\n",
       "    <tr>\n",
       "      <th>3</th>\n",
       "      <td>144372.41</td>\n",
       "      <td>118671.85</td>\n",
       "      <td>383199.62</td>\n",
       "      <td>New York</td>\n",
       "      <td>182901.99</td>\n",
       "    </tr>\n",
       "    <tr>\n",
       "      <th>4</th>\n",
       "      <td>142107.34</td>\n",
       "      <td>91391.77</td>\n",
       "      <td>366168.42</td>\n",
       "      <td>Florida</td>\n",
       "      <td>166187.94</td>\n",
       "    </tr>\n",
       "  </tbody>\n",
       "</table>\n",
       "</div>"
      ],
      "text/plain": [
       "   R&D Spend  Administration  Marketing Spend       State     Profit\n",
       "0  165349.20       136897.80        471784.10    New York  192261.83\n",
       "1  162597.70       151377.59        443898.53  California  191792.06\n",
       "2  153441.51       101145.55        407934.54     Florida  191050.39\n",
       "3  144372.41       118671.85        383199.62    New York  182901.99\n",
       "4  142107.34        91391.77        366168.42     Florida  166187.94"
      ]
     },
     "execution_count": 9,
     "metadata": {},
     "output_type": "execute_result"
    }
   ],
   "source": [
    "data.head()"
   ]
  },
  {
   "cell_type": "code",
   "execution_count": 11,
   "id": "bf39b85e",
   "metadata": {},
   "outputs": [],
   "source": [
    "#Encoding=Converting Categoricalto numerical\n",
    "from sklearn.preprocessing import LabelEncoder"
   ]
  },
  {
   "cell_type": "code",
   "execution_count": 14,
   "id": "6067cd20",
   "metadata": {},
   "outputs": [],
   "source": [
    "le=LabelEncoder()"
   ]
  },
  {
   "cell_type": "code",
   "execution_count": 15,
   "id": "1209210a",
   "metadata": {},
   "outputs": [],
   "source": [
    "data[\"State\"]=le.fit_transform(data['State'])"
   ]
  },
  {
   "cell_type": "code",
   "execution_count": 16,
   "id": "3fa3ca2f",
   "metadata": {},
   "outputs": [
    {
     "data": {
      "text/html": [
       "<div>\n",
       "<style scoped>\n",
       "    .dataframe tbody tr th:only-of-type {\n",
       "        vertical-align: middle;\n",
       "    }\n",
       "\n",
       "    .dataframe tbody tr th {\n",
       "        vertical-align: top;\n",
       "    }\n",
       "\n",
       "    .dataframe thead th {\n",
       "        text-align: right;\n",
       "    }\n",
       "</style>\n",
       "<table border=\"1\" class=\"dataframe\">\n",
       "  <thead>\n",
       "    <tr style=\"text-align: right;\">\n",
       "      <th></th>\n",
       "      <th>R&amp;D Spend</th>\n",
       "      <th>Administration</th>\n",
       "      <th>Marketing Spend</th>\n",
       "      <th>State</th>\n",
       "      <th>Profit</th>\n",
       "    </tr>\n",
       "  </thead>\n",
       "  <tbody>\n",
       "    <tr>\n",
       "      <th>0</th>\n",
       "      <td>165349.20</td>\n",
       "      <td>136897.80</td>\n",
       "      <td>471784.10</td>\n",
       "      <td>2</td>\n",
       "      <td>192261.83</td>\n",
       "    </tr>\n",
       "    <tr>\n",
       "      <th>1</th>\n",
       "      <td>162597.70</td>\n",
       "      <td>151377.59</td>\n",
       "      <td>443898.53</td>\n",
       "      <td>0</td>\n",
       "      <td>191792.06</td>\n",
       "    </tr>\n",
       "    <tr>\n",
       "      <th>2</th>\n",
       "      <td>153441.51</td>\n",
       "      <td>101145.55</td>\n",
       "      <td>407934.54</td>\n",
       "      <td>1</td>\n",
       "      <td>191050.39</td>\n",
       "    </tr>\n",
       "    <tr>\n",
       "      <th>3</th>\n",
       "      <td>144372.41</td>\n",
       "      <td>118671.85</td>\n",
       "      <td>383199.62</td>\n",
       "      <td>2</td>\n",
       "      <td>182901.99</td>\n",
       "    </tr>\n",
       "    <tr>\n",
       "      <th>4</th>\n",
       "      <td>142107.34</td>\n",
       "      <td>91391.77</td>\n",
       "      <td>366168.42</td>\n",
       "      <td>1</td>\n",
       "      <td>166187.94</td>\n",
       "    </tr>\n",
       "  </tbody>\n",
       "</table>\n",
       "</div>"
      ],
      "text/plain": [
       "   R&D Spend  Administration  Marketing Spend  State     Profit\n",
       "0  165349.20       136897.80        471784.10      2  192261.83\n",
       "1  162597.70       151377.59        443898.53      0  191792.06\n",
       "2  153441.51       101145.55        407934.54      1  191050.39\n",
       "3  144372.41       118671.85        383199.62      2  182901.99\n",
       "4  142107.34        91391.77        366168.42      1  166187.94"
      ]
     },
     "execution_count": 16,
     "metadata": {},
     "output_type": "execute_result"
    }
   ],
   "source": [
    "data.head()"
   ]
  },
  {
   "cell_type": "code",
   "execution_count": 17,
   "id": "b43110e8",
   "metadata": {},
   "outputs": [
    {
     "name": "stdout",
     "output_type": "stream",
     "text": [
      "<class 'pandas.core.frame.DataFrame'>\n",
      "RangeIndex: 108 entries, 0 to 107\n",
      "Data columns (total 5 columns):\n",
      " #   Column           Non-Null Count  Dtype  \n",
      "---  ------           --------------  -----  \n",
      " 0   R&D Spend        108 non-null    float64\n",
      " 1   Administration   108 non-null    float64\n",
      " 2   Marketing Spend  108 non-null    float64\n",
      " 3   State            108 non-null    int32  \n",
      " 4   Profit           108 non-null    float64\n",
      "dtypes: float64(4), int32(1)\n",
      "memory usage: 3.9 KB\n"
     ]
    }
   ],
   "source": [
    "data.info()"
   ]
  },
  {
   "cell_type": "code",
   "execution_count": 18,
   "id": "05aea0d5",
   "metadata": {},
   "outputs": [],
   "source": [
    "y=data[\"Profit\"]\n",
    "x=data.drop(columns=[\"Profit\"],axis=1)"
   ]
  },
  {
   "cell_type": "code",
   "execution_count": 20,
   "id": "756acc86",
   "metadata": {},
   "outputs": [
    {
     "data": {
      "text/html": [
       "<div>\n",
       "<style scoped>\n",
       "    .dataframe tbody tr th:only-of-type {\n",
       "        vertical-align: middle;\n",
       "    }\n",
       "\n",
       "    .dataframe tbody tr th {\n",
       "        vertical-align: top;\n",
       "    }\n",
       "\n",
       "    .dataframe thead th {\n",
       "        text-align: right;\n",
       "    }\n",
       "</style>\n",
       "<table border=\"1\" class=\"dataframe\">\n",
       "  <thead>\n",
       "    <tr style=\"text-align: right;\">\n",
       "      <th></th>\n",
       "      <th>R&amp;D Spend</th>\n",
       "      <th>Administration</th>\n",
       "      <th>Marketing Spend</th>\n",
       "      <th>State</th>\n",
       "    </tr>\n",
       "  </thead>\n",
       "  <tbody>\n",
       "    <tr>\n",
       "      <th>0</th>\n",
       "      <td>165349.20</td>\n",
       "      <td>136897.80</td>\n",
       "      <td>471784.10</td>\n",
       "      <td>2</td>\n",
       "    </tr>\n",
       "    <tr>\n",
       "      <th>1</th>\n",
       "      <td>162597.70</td>\n",
       "      <td>151377.59</td>\n",
       "      <td>443898.53</td>\n",
       "      <td>0</td>\n",
       "    </tr>\n",
       "    <tr>\n",
       "      <th>2</th>\n",
       "      <td>153441.51</td>\n",
       "      <td>101145.55</td>\n",
       "      <td>407934.54</td>\n",
       "      <td>1</td>\n",
       "    </tr>\n",
       "    <tr>\n",
       "      <th>3</th>\n",
       "      <td>144372.41</td>\n",
       "      <td>118671.85</td>\n",
       "      <td>383199.62</td>\n",
       "      <td>2</td>\n",
       "    </tr>\n",
       "    <tr>\n",
       "      <th>4</th>\n",
       "      <td>142107.34</td>\n",
       "      <td>91391.77</td>\n",
       "      <td>366168.42</td>\n",
       "      <td>1</td>\n",
       "    </tr>\n",
       "    <tr>\n",
       "      <th>...</th>\n",
       "      <td>...</td>\n",
       "      <td>...</td>\n",
       "      <td>...</td>\n",
       "      <td>...</td>\n",
       "    </tr>\n",
       "    <tr>\n",
       "      <th>103</th>\n",
       "      <td>119943.24</td>\n",
       "      <td>156547.42</td>\n",
       "      <td>256512.92</td>\n",
       "      <td>1</td>\n",
       "    </tr>\n",
       "    <tr>\n",
       "      <th>104</th>\n",
       "      <td>114523.61</td>\n",
       "      <td>122616.84</td>\n",
       "      <td>261776.23</td>\n",
       "      <td>2</td>\n",
       "    </tr>\n",
       "    <tr>\n",
       "      <th>105</th>\n",
       "      <td>78013.11</td>\n",
       "      <td>121597.55</td>\n",
       "      <td>264346.06</td>\n",
       "      <td>0</td>\n",
       "    </tr>\n",
       "    <tr>\n",
       "      <th>106</th>\n",
       "      <td>94657.16</td>\n",
       "      <td>145077.58</td>\n",
       "      <td>282574.31</td>\n",
       "      <td>2</td>\n",
       "    </tr>\n",
       "    <tr>\n",
       "      <th>107</th>\n",
       "      <td>91749.16</td>\n",
       "      <td>114175.79</td>\n",
       "      <td>294919.57</td>\n",
       "      <td>1</td>\n",
       "    </tr>\n",
       "  </tbody>\n",
       "</table>\n",
       "<p>108 rows × 4 columns</p>\n",
       "</div>"
      ],
      "text/plain": [
       "     R&D Spend  Administration  Marketing Spend  State\n",
       "0    165349.20       136897.80        471784.10      2\n",
       "1    162597.70       151377.59        443898.53      0\n",
       "2    153441.51       101145.55        407934.54      1\n",
       "3    144372.41       118671.85        383199.62      2\n",
       "4    142107.34        91391.77        366168.42      1\n",
       "..         ...             ...              ...    ...\n",
       "103  119943.24       156547.42        256512.92      1\n",
       "104  114523.61       122616.84        261776.23      2\n",
       "105   78013.11       121597.55        264346.06      0\n",
       "106   94657.16       145077.58        282574.31      2\n",
       "107   91749.16       114175.79        294919.57      1\n",
       "\n",
       "[108 rows x 4 columns]"
      ]
     },
     "execution_count": 20,
     "metadata": {},
     "output_type": "execute_result"
    }
   ],
   "source": [
    "x"
   ]
  },
  {
   "cell_type": "code",
   "execution_count": 21,
   "id": "b794ced7",
   "metadata": {},
   "outputs": [
    {
     "data": {
      "text/plain": [
       "0      192261.83\n",
       "1      191792.06\n",
       "2      191050.39\n",
       "3      182901.99\n",
       "4      166187.94\n",
       "         ...    \n",
       "103    132602.65\n",
       "104    129917.04\n",
       "105    126992.93\n",
       "106    125370.37\n",
       "107    124266.90\n",
       "Name: Profit, Length: 108, dtype: float64"
      ]
     },
     "execution_count": 21,
     "metadata": {},
     "output_type": "execute_result"
    }
   ],
   "source": [
    "y"
   ]
  },
  {
   "cell_type": "code",
   "execution_count": 22,
   "id": "91b849cd",
   "metadata": {},
   "outputs": [],
   "source": [
    "#Scaling independent features\n",
    "from sklearn.preprocessing import StandardScaler"
   ]
  },
  {
   "cell_type": "code",
   "execution_count": 23,
   "id": "55c51b3c",
   "metadata": {},
   "outputs": [],
   "source": [
    "name=x.columns"
   ]
  },
  {
   "cell_type": "code",
   "execution_count": 24,
   "id": "1d072abd",
   "metadata": {},
   "outputs": [],
   "source": [
    "scale=StandardScaler()"
   ]
  },
  {
   "cell_type": "code",
   "execution_count": 25,
   "id": "cd235799",
   "metadata": {},
   "outputs": [],
   "source": [
    "x=scale.fit_transform(x)"
   ]
  },
  {
   "cell_type": "code",
   "execution_count": 26,
   "id": "3ee41b6f",
   "metadata": {},
   "outputs": [
    {
     "data": {
      "text/plain": [
       "array([[ 2.01819092,  0.55696553,  2.18783528,  1.16731536],\n",
       "       [ 1.95675646,  1.0893969 ,  1.95029024, -1.23401909],\n",
       "       [ 1.75232048, -0.75766814,  1.64392865, -0.03335187],\n",
       "       [ 1.54982902, -0.1132146 ,  1.43322263,  1.16731536],\n",
       "       [ 1.49925539, -1.11632102,  1.28814125, -0.03335187],\n",
       "       [ 1.27083396, -0.806604  ,  1.25996984,  1.16731536],\n",
       "       [ 1.3319795 ,  0.93574262, -0.74312422, -1.23401909],\n",
       "       [ 1.23558377,  0.87437939,  0.92787631, -0.03335187],\n",
       "       [ 1.01776417,  0.99163696,  0.82340982,  1.16731536],\n",
       "       [ 1.08011094, -0.48065199,  0.76691751, -1.23401909],\n",
       "       [ 0.60181303, -0.4102384 ,  0.1210342 , -0.03335187],\n",
       "       [ 0.57410176, -1.10165542,  0.29637694, -1.23401909],\n",
       "       [ 0.4220906 ,  0.20479752,  0.29718526, -0.03335187],\n",
       "       [ 0.38030758,  0.50538623,  0.32125438, -1.23401909],\n",
       "       [ 1.00438367,  1.27949493,  0.35403374, -0.03335187],\n",
       "       [ 0.88337621,  0.03184527,  0.39886959,  1.16731536],\n",
       "       [ 0.06818346, -0.00563469,  0.42076085, -1.23401909],\n",
       "       [ 0.43980557,  0.8577414 ,  0.57603938,  1.16731536],\n",
       "       [ 0.37487683, -0.27853767,  0.68120328, -0.03335187],\n",
       "       [ 0.25588265,  1.16795814, -1.83108825,  1.16731536],\n",
       "       [ 0.02890359, -0.28988105,  0.71310446, -1.23401909],\n",
       "       [ 0.07658668,  1.1774935 ,  0.72224334,  1.16731536],\n",
       "       [-0.02154122,  0.03794589,  0.75275659, -0.03335187],\n",
       "       [-0.165823  , -0.58832162,  0.76510399, -0.03335187],\n",
       "       [ 0.04654576, -0.82621636, -0.63359259,  1.16731536],\n",
       "       [-0.22985461,  0.65460485, -0.6558447 , -1.23401909],\n",
       "       [ 0.00825076,  0.82311815, -0.68917401, -0.03335187],\n",
       "       [-0.06367255,  0.224807  ,  1.177531  ,  1.16731536],\n",
       "       [-0.19889043,  2.23914065, -0.82463513, -0.03335187],\n",
       "       [-0.20884945,  1.15023284, -0.918423  ,  1.16731536],\n",
       "       [-0.2894745 , -0.22465065, -1.05478086, -0.03335187],\n",
       "       [-0.30863384,  1.13809338, -1.07959552,  1.16731536],\n",
       "       [-0.25789476,  0.27463345, -1.43850805, -1.23401909],\n",
       "       [-0.4346159 , -0.68736485, -0.00270767, -0.03335187],\n",
       "       [-0.63708012,  1.32165249, -0.03539459, -1.23401909],\n",
       "       [-0.64628022, -1.3496062 , -0.08037287,  1.16731536],\n",
       "       [-1.03367032,  0.19508381, -0.11777636, -0.03335187],\n",
       "       [-0.68968668, -2.59114164, -0.15268033, -1.23401909],\n",
       "       [-1.2219853 , -2.0519077 , -0.25289545,  1.16731536],\n",
       "       [-0.81274405, -1.42555047, -0.34034534, -1.23401909],\n",
       "       [-1.0316481 , -0.11784035, -0.3591171 , -1.23401909],\n",
       "       [-1.05088134, -1.36198577, -0.43003381, -0.03335187],\n",
       "       [-1.14581818, -0.93990057, -0.57033117, -1.23401909],\n",
       "       [-1.32745787,  0.20707435, -1.52838812,  1.16731536],\n",
       "       [-1.17848774,  1.21546693, -1.5897171 , -1.23401909],\n",
       "       [-1.65133124,  0.08833235, -1.8148695 ,  1.16731536],\n",
       "       [-1.6442929 , -0.21821836,  0.6999006 , -0.03335187],\n",
       "       [-1.673664  ,  0.50288031, -1.83108825, -1.23401909],\n",
       "       [-1.66156131, -2.57422677, -1.83108825,  1.16731536],\n",
       "       [-1.673664  , -0.17528531, -1.4462786 , -1.23401909],\n",
       "       [ 0.57410176, -1.10165542,  0.29637694, -1.23401909],\n",
       "       [ 0.4220906 ,  0.20479752,  0.29718526, -0.03335187],\n",
       "       [ 0.38030758,  0.50538623,  0.32125438, -1.23401909],\n",
       "       [ 1.00438367,  1.27949493,  0.35403374, -0.03335187],\n",
       "       [ 0.88337621,  0.03184527,  0.39886959,  1.16731536],\n",
       "       [ 0.06818346, -0.00563469,  0.42076085, -1.23401909],\n",
       "       [ 0.43980557,  0.8577414 ,  0.57603938,  1.16731536],\n",
       "       [ 0.37487683, -0.27853767,  0.68120328, -0.03335187],\n",
       "       [ 0.25588265,  1.16795814, -1.83108825,  1.16731536],\n",
       "       [ 0.02890359, -0.28988105,  0.71310446, -1.23401909],\n",
       "       [ 0.07658668,  1.1774935 ,  0.72224334,  1.16731536],\n",
       "       [-0.02154122,  0.03794589,  0.75275659, -0.03335187],\n",
       "       [-0.165823  , -0.58832162,  0.76510399, -0.03335187],\n",
       "       [ 0.04654576, -0.82621636, -0.63359259,  1.16731536],\n",
       "       [-0.22985461,  0.65460485, -0.6558447 , -1.23401909],\n",
       "       [ 0.00825076,  0.82311815, -0.68917401, -0.03335187],\n",
       "       [-0.06367255,  0.224807  ,  1.177531  ,  1.16731536],\n",
       "       [-0.19889043,  2.23914065, -0.82463513, -0.03335187],\n",
       "       [-0.20884945,  1.15023284, -0.918423  ,  1.16731536],\n",
       "       [-0.2894745 , -0.22465065, -1.05478086,  1.16731536],\n",
       "       [-1.2219853 ,  1.13809338, -1.07959552,  1.16731536],\n",
       "       [-0.25789476,  0.27463345, -1.43850805, -1.23401909],\n",
       "       [-0.4346159 , -0.68736485, -0.00270767, -0.03335187],\n",
       "       [-0.63708012,  1.32165249, -0.03539459,  1.16731536],\n",
       "       [-1.2219853 , -1.3496062 , -0.08037287,  1.16731536],\n",
       "       [-1.03367032,  0.19508381, -0.11777636, -0.03335187],\n",
       "       [-0.68968668, -2.59114164, -0.15268033, -1.23401909],\n",
       "       [-1.2219853 , -2.0519077 , -0.25289545,  1.16731536],\n",
       "       [-0.81274405, -1.42555047, -0.34034534, -1.23401909],\n",
       "       [-1.0316481 , -0.11784035, -0.3591171 , -1.23401909],\n",
       "       [-1.05088134, -1.36198577, -0.43003381,  1.16731536],\n",
       "       [-1.14581818, -0.93990057, -0.57033117, -1.23401909],\n",
       "       [-1.2219853 ,  0.20707435, -1.52838812,  1.16731536],\n",
       "       [-1.17848774,  1.21546693, -1.5897171 , -1.23401909],\n",
       "       [-1.65133124,  0.08833235, -1.8148695 ,  1.16731536],\n",
       "       [-1.6442929 , -0.21821836,  0.6999006 , -0.03335187],\n",
       "       [-1.673664  ,  0.50288031, -1.83108825, -1.23401909],\n",
       "       [-1.66156131, -2.57422677, -1.83108825,  1.16731536],\n",
       "       [-1.673664  , -0.17528531, -1.4462786 , -1.23401909],\n",
       "       [ 2.01819092,  0.55696553,  2.18783528,  1.16731536],\n",
       "       [ 1.95675646,  1.0893969 ,  1.95029024, -1.23401909],\n",
       "       [ 1.75232048, -0.75766814,  1.64392865, -0.03335187],\n",
       "       [ 1.54982902, -0.1132146 ,  1.43322263,  1.16731536],\n",
       "       [ 1.49925539, -1.11632102,  1.28814125, -0.03335187],\n",
       "       [ 1.27083396, -0.806604  ,  1.25996984,  1.16731536],\n",
       "       [ 1.3319795 ,  0.93574262, -0.74312422, -1.23401909],\n",
       "       [ 1.23558377,  0.87437939,  0.92787631, -0.03335187],\n",
       "       [ 1.01776417,  0.99163696,  0.82340982,  1.16731536],\n",
       "       [ 1.08011094, -0.48065199,  0.76691751, -1.23401909],\n",
       "       [ 0.60181303, -0.4102384 ,  0.1210342 , -0.03335187],\n",
       "       [ 0.57410176, -1.10165542,  0.29637694, -1.23401909],\n",
       "       [ 0.4220906 ,  0.20479752,  0.29718526, -0.03335187],\n",
       "       [ 0.38030758,  0.50538623,  0.32125438, -1.23401909],\n",
       "       [ 1.00438367,  1.27949493,  0.35403374, -0.03335187],\n",
       "       [ 0.88337621,  0.03184527,  0.39886959,  1.16731536],\n",
       "       [ 0.06818346, -0.00563469,  0.42076085, -1.23401909],\n",
       "       [ 0.43980557,  0.8577414 ,  0.57603938,  1.16731536],\n",
       "       [ 0.37487683, -0.27853767,  0.68120328, -0.03335187]])"
      ]
     },
     "execution_count": 26,
     "metadata": {},
     "output_type": "execute_result"
    }
   ],
   "source": [
    "x"
   ]
  },
  {
   "cell_type": "code",
   "execution_count": 27,
   "id": "d3f9fe6f",
   "metadata": {},
   "outputs": [],
   "source": [
    "x=pd.DataFrame(x,columns=name)"
   ]
  },
  {
   "cell_type": "code",
   "execution_count": 28,
   "id": "e595e031",
   "metadata": {},
   "outputs": [
    {
     "data": {
      "text/html": [
       "<div>\n",
       "<style scoped>\n",
       "    .dataframe tbody tr th:only-of-type {\n",
       "        vertical-align: middle;\n",
       "    }\n",
       "\n",
       "    .dataframe tbody tr th {\n",
       "        vertical-align: top;\n",
       "    }\n",
       "\n",
       "    .dataframe thead th {\n",
       "        text-align: right;\n",
       "    }\n",
       "</style>\n",
       "<table border=\"1\" class=\"dataframe\">\n",
       "  <thead>\n",
       "    <tr style=\"text-align: right;\">\n",
       "      <th></th>\n",
       "      <th>R&amp;D Spend</th>\n",
       "      <th>Administration</th>\n",
       "      <th>Marketing Spend</th>\n",
       "      <th>State</th>\n",
       "    </tr>\n",
       "  </thead>\n",
       "  <tbody>\n",
       "    <tr>\n",
       "      <th>0</th>\n",
       "      <td>2.018191</td>\n",
       "      <td>0.556966</td>\n",
       "      <td>2.187835</td>\n",
       "      <td>1.167315</td>\n",
       "    </tr>\n",
       "    <tr>\n",
       "      <th>1</th>\n",
       "      <td>1.956756</td>\n",
       "      <td>1.089397</td>\n",
       "      <td>1.950290</td>\n",
       "      <td>-1.234019</td>\n",
       "    </tr>\n",
       "    <tr>\n",
       "      <th>2</th>\n",
       "      <td>1.752320</td>\n",
       "      <td>-0.757668</td>\n",
       "      <td>1.643929</td>\n",
       "      <td>-0.033352</td>\n",
       "    </tr>\n",
       "    <tr>\n",
       "      <th>3</th>\n",
       "      <td>1.549829</td>\n",
       "      <td>-0.113215</td>\n",
       "      <td>1.433223</td>\n",
       "      <td>1.167315</td>\n",
       "    </tr>\n",
       "    <tr>\n",
       "      <th>4</th>\n",
       "      <td>1.499255</td>\n",
       "      <td>-1.116321</td>\n",
       "      <td>1.288141</td>\n",
       "      <td>-0.033352</td>\n",
       "    </tr>\n",
       "    <tr>\n",
       "      <th>...</th>\n",
       "      <td>...</td>\n",
       "      <td>...</td>\n",
       "      <td>...</td>\n",
       "      <td>...</td>\n",
       "    </tr>\n",
       "    <tr>\n",
       "      <th>103</th>\n",
       "      <td>1.004384</td>\n",
       "      <td>1.279495</td>\n",
       "      <td>0.354034</td>\n",
       "      <td>-0.033352</td>\n",
       "    </tr>\n",
       "    <tr>\n",
       "      <th>104</th>\n",
       "      <td>0.883376</td>\n",
       "      <td>0.031845</td>\n",
       "      <td>0.398870</td>\n",
       "      <td>1.167315</td>\n",
       "    </tr>\n",
       "    <tr>\n",
       "      <th>105</th>\n",
       "      <td>0.068183</td>\n",
       "      <td>-0.005635</td>\n",
       "      <td>0.420761</td>\n",
       "      <td>-1.234019</td>\n",
       "    </tr>\n",
       "    <tr>\n",
       "      <th>106</th>\n",
       "      <td>0.439806</td>\n",
       "      <td>0.857741</td>\n",
       "      <td>0.576039</td>\n",
       "      <td>1.167315</td>\n",
       "    </tr>\n",
       "    <tr>\n",
       "      <th>107</th>\n",
       "      <td>0.374877</td>\n",
       "      <td>-0.278538</td>\n",
       "      <td>0.681203</td>\n",
       "      <td>-0.033352</td>\n",
       "    </tr>\n",
       "  </tbody>\n",
       "</table>\n",
       "<p>108 rows × 4 columns</p>\n",
       "</div>"
      ],
      "text/plain": [
       "     R&D Spend  Administration  Marketing Spend     State\n",
       "0     2.018191        0.556966         2.187835  1.167315\n",
       "1     1.956756        1.089397         1.950290 -1.234019\n",
       "2     1.752320       -0.757668         1.643929 -0.033352\n",
       "3     1.549829       -0.113215         1.433223  1.167315\n",
       "4     1.499255       -1.116321         1.288141 -0.033352\n",
       "..         ...             ...              ...       ...\n",
       "103   1.004384        1.279495         0.354034 -0.033352\n",
       "104   0.883376        0.031845         0.398870  1.167315\n",
       "105   0.068183       -0.005635         0.420761 -1.234019\n",
       "106   0.439806        0.857741         0.576039  1.167315\n",
       "107   0.374877       -0.278538         0.681203 -0.033352\n",
       "\n",
       "[108 rows x 4 columns]"
      ]
     },
     "execution_count": 28,
     "metadata": {},
     "output_type": "execute_result"
    }
   ],
   "source": [
    "x"
   ]
  },
  {
   "cell_type": "code",
   "execution_count": 30,
   "id": "70b579a7",
   "metadata": {},
   "outputs": [],
   "source": [
    "from sklearn.model_selection import train_test_split"
   ]
  },
  {
   "cell_type": "code",
   "execution_count": 32,
   "id": "984c447f",
   "metadata": {},
   "outputs": [],
   "source": [
    "x_train,x_test,y_train,y_test=train_test_split(x,y,test_size=0.2,random_state=0)"
   ]
  },
  {
   "cell_type": "code",
   "execution_count": 33,
   "id": "9b2db766",
   "metadata": {},
   "outputs": [],
   "source": [
    "#model building"
   ]
  },
  {
   "cell_type": "code",
   "execution_count": 34,
   "id": "e809186b",
   "metadata": {},
   "outputs": [],
   "source": [
    "from sklearn.linear_model import LinearRegression"
   ]
  },
  {
   "cell_type": "code",
   "execution_count": 35,
   "id": "02e8c3ce",
   "metadata": {},
   "outputs": [],
   "source": [
    "model=LinearRegression()"
   ]
  },
  {
   "cell_type": "code",
   "execution_count": 36,
   "id": "a3d55595",
   "metadata": {},
   "outputs": [
    {
     "data": {
      "text/plain": [
       "LinearRegression()"
      ]
     },
     "execution_count": 36,
     "metadata": {},
     "output_type": "execute_result"
    }
   ],
   "source": [
    "model"
   ]
  },
  {
   "cell_type": "code",
   "execution_count": 37,
   "id": "86f91d89",
   "metadata": {},
   "outputs": [
    {
     "data": {
      "text/plain": [
       "LinearRegression()"
      ]
     },
     "execution_count": 37,
     "metadata": {},
     "output_type": "execute_result"
    }
   ],
   "source": [
    "model.fit(x_train,y_train)"
   ]
  },
  {
   "cell_type": "code",
   "execution_count": 38,
   "id": "4702097e",
   "metadata": {},
   "outputs": [],
   "source": [
    "pred=model.predict(x_test)"
   ]
  },
  {
   "cell_type": "code",
   "execution_count": 39,
   "id": "0271197e",
   "metadata": {},
   "outputs": [
    {
     "data": {
      "text/plain": [
       "array([ 48379.24868386, 134848.9192467 ,  76483.10965225, 181561.78529188,\n",
       "       112966.00035112, 134241.68257226, 129222.38731942, 160017.05919784,\n",
       "       116752.96050775,  46260.9926407 , 102266.36060189, 115568.27177598,\n",
       "        48379.24868386, 119114.16525526,  88602.22002789, 127101.40273623,\n",
       "       127101.40273623,  90942.33421515,  58677.7334991 , 146304.26215166,\n",
       "       149410.05441   , 152502.87810448])"
      ]
     },
     "execution_count": 39,
     "metadata": {},
     "output_type": "execute_result"
    }
   ],
   "source": [
    "pred"
   ]
  },
  {
   "cell_type": "code",
   "execution_count": 40,
   "id": "21a1c554",
   "metadata": {},
   "outputs": [
    {
     "data": {
      "text/plain": [
       "84      64926.08\n",
       "10     146121.95\n",
       "75      90708.19\n",
       "2      191050.39\n",
       "24     108552.04\n",
       "100    144259.40\n",
       "107    124266.90\n",
       "7      155752.60\n",
       "16     126992.93\n",
       "86      42559.73\n",
       "68     101004.64\n",
       "22     110352.25\n",
       "45      64926.08\n",
       "60     111313.02\n",
       "76      89949.14\n",
       "52     134307.35\n",
       "13     134307.35\n",
       "73      96712.80\n",
       "85      49490.75\n",
       "54     129917.04\n",
       "103    132602.65\n",
       "8      152211.77\n",
       "Name: Profit, dtype: float64"
      ]
     },
     "execution_count": 40,
     "metadata": {},
     "output_type": "execute_result"
    }
   ],
   "source": [
    "y_test"
   ]
  },
  {
   "cell_type": "code",
   "execution_count": 41,
   "id": "05fe52ca",
   "metadata": {},
   "outputs": [
    {
     "data": {
      "text/plain": [
       "84    -16546.831316\n",
       "10    -11273.030753\n",
       "75    -14225.080348\n",
       "2      -9488.604708\n",
       "24      4413.960351\n",
       "100   -10017.717428\n",
       "107     4955.487319\n",
       "7       4264.459198\n",
       "16    -10239.969492\n",
       "86      3701.262641\n",
       "68      1261.720602\n",
       "22      5216.021776\n",
       "45    -16546.831316\n",
       "60      7801.145255\n",
       "76     -1346.919972\n",
       "52     -7205.947264\n",
       "13     -7205.947264\n",
       "73     -5770.465785\n",
       "85      9186.983499\n",
       "54     16387.222152\n",
       "103    16807.404410\n",
       "8        291.108104\n",
       "Name: Profit, dtype: float64"
      ]
     },
     "execution_count": 41,
     "metadata": {},
     "output_type": "execute_result"
    }
   ],
   "source": [
    "E=pred-y_test\n",
    "E"
   ]
  },
  {
   "cell_type": "code",
   "execution_count": 42,
   "id": "11e39a63",
   "metadata": {},
   "outputs": [],
   "source": [
    "from sklearn.metrics import r2_score"
   ]
  },
  {
   "cell_type": "code",
   "execution_count": 43,
   "id": "5294a50c",
   "metadata": {},
   "outputs": [
    {
     "data": {
      "text/plain": [
       "93.1472038899288"
      ]
     },
     "execution_count": 43,
     "metadata": {},
     "output_type": "execute_result"
    }
   ],
   "source": [
    "r2_score(pred,y_test)*100"
   ]
  },
  {
   "cell_type": "code",
   "execution_count": null,
   "id": "2e8700b6",
   "metadata": {},
   "outputs": [],
   "source": []
  },
  {
   "cell_type": "code",
   "execution_count": null,
   "id": "63f7d9bb",
   "metadata": {},
   "outputs": [],
   "source": []
  },
  {
   "cell_type": "code",
   "execution_count": null,
   "id": "dd598daa",
   "metadata": {},
   "outputs": [],
   "source": []
  },
  {
   "cell_type": "code",
   "execution_count": null,
   "id": "530839bb",
   "metadata": {},
   "outputs": [],
   "source": []
  }
 ],
 "metadata": {
  "kernelspec": {
   "display_name": "Python 3 (ipykernel)",
   "language": "python",
   "name": "python3"
  },
  "language_info": {
   "codemirror_mode": {
    "name": "ipython",
    "version": 3
   },
   "file_extension": ".py",
   "mimetype": "text/x-python",
   "name": "python",
   "nbconvert_exporter": "python",
   "pygments_lexer": "ipython3",
   "version": "3.9.13"
  }
 },
 "nbformat": 4,
 "nbformat_minor": 5
}
